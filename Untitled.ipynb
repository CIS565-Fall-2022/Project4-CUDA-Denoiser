{
 "cells": [
  {
   "cell_type": "code",
   "execution_count": null,
   "id": "a63a4781-85ee-425c-a7bb-d9ddc0bed379",
   "metadata": {},
   "outputs": [],
   "source": [
    "613.33"
   ]
  },
  {
   "cell_type": "code",
   "execution_count": null,
   "id": "1e33a3ba-cba3-4bab-bd08-ad8a9365668e",
   "metadata": {},
   "outputs": [],
   "source": [
    "1.00 36.5 74.9 111 148 186\n",
    "0 1 2 3 4 5"
   ]
  }
 ],
 "metadata": {
  "kernelspec": {
   "display_name": "Python 3 (ipykernel)",
   "language": "python",
   "name": "python3"
  },
  "language_info": {
   "codemirror_mode": {
    "name": "ipython",
    "version": 3
   },
   "file_extension": ".py",
   "mimetype": "text/x-python",
   "name": "python",
   "nbconvert_exporter": "python",
   "pygments_lexer": "ipython3",
   "version": "3.9.7"
  }
 },
 "nbformat": 4,
 "nbformat_minor": 5
}
