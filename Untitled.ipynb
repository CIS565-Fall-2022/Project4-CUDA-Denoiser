{
 "cells": [
  {
   "cell_type": "code",
   "execution_count": null,
   "id": "a63a4781-85ee-425c-a7bb-d9ddc0bed379",
   "metadata": {},
   "outputs": [],
   "source": [
    "613.33"
   ]
  },
  {
   "cell_type": "code",
   "execution_count": null,
   "id": "1e33a3ba-cba3-4bab-bd08-ad8a9365668e",
   "metadata": {},
   "outputs": [],
   "source": [
    "1.00 36.5 74.9 111 148 186\n",
    "0 1 2 3 4 5"
   ]
  },
  {
   "cell_type": "code",
   "execution_count": 37,
   "id": "d1bbc242-bb22-4ac8-a5f9-e9e9c9dd3a1b",
   "metadata": {},
   "outputs": [],
   "source": [
    "from sewar.full_ref import msssim,ssim,rmse,uqi"
   ]
  },
  {
   "cell_type": "code",
   "execution_count": 11,
   "id": "57d94353-2465-4cfc-8707-916325d5c4d5",
   "metadata": {},
   "outputs": [],
   "source": [
    "from PIL import Image"
   ]
  },
  {
   "cell_type": "code",
   "execution_count": 15,
   "id": "3a7a30c9-5c3c-4b48-afc8-3f46918c522e",
   "metadata": {},
   "outputs": [],
   "source": [
    "import numpy as np"
   ]
  },
  {
   "cell_type": "code",
   "execution_count": 56,
   "id": "d79f2ca6-8db1-4be2-b9bf-5d2052a8888b",
   "metadata": {},
   "outputs": [],
   "source": [
    "from matplotlib import pyplot as plt"
   ]
  },
  {
   "cell_type": "code",
   "execution_count": 7,
   "id": "8f6d8438-4a21-4c0e-a595-82a1904cc76e",
   "metadata": {},
   "outputs": [
    {
     "ename": "AttributeError",
     "evalue": "'str' object has no attribute 'dtype'",
     "output_type": "error",
     "traceback": [
      "\u001b[1;31m---------------------------------------------------------------------------\u001b[0m",
      "\u001b[1;31mAttributeError\u001b[0m                            Traceback (most recent call last)",
      "\u001b[1;32m~\\AppData\\Local\\Temp/ipykernel_1212/2738552631.py\u001b[0m in \u001b[0;36m<module>\u001b[1;34m\u001b[0m\n\u001b[1;32m----> 1\u001b[1;33m \u001b[0mmsssim\u001b[0m\u001b[1;33m(\u001b[0m\u001b[1;34mr'C:\\Users\\chuzh\\Study\\CIS565\\Project4-CUDA-Denoiser\\img\\scene.png'\u001b[0m\u001b[1;33m,\u001b[0m\u001b[1;34mr'C:\\Users\\chuzh\\Study\\CIS565\\Project4-CUDA-Denoiser\\data\\0.png'\u001b[0m\u001b[1;33m)\u001b[0m\u001b[1;33m\u001b[0m\u001b[1;33m\u001b[0m\u001b[0m\n\u001b[0m",
      "\u001b[1;32m~\\AppData\\Local\\Programs\\Python\\Python39\\lib\\site-packages\\sewar\\full_ref.py\u001b[0m in \u001b[0;36mmsssim\u001b[1;34m(GT, P, weights, ws, K1, K2, MAX)\u001b[0m\n\u001b[0;32m    289\u001b[0m \t\"\"\"\n\u001b[0;32m    290\u001b[0m         \u001b[1;32mif\u001b[0m \u001b[0mMAX\u001b[0m \u001b[1;32mis\u001b[0m \u001b[1;32mNone\u001b[0m\u001b[1;33m:\u001b[0m\u001b[1;33m\u001b[0m\u001b[1;33m\u001b[0m\u001b[0m\n\u001b[1;32m--> 291\u001b[1;33m                 \u001b[0mMAX\u001b[0m \u001b[1;33m=\u001b[0m \u001b[0mnp\u001b[0m\u001b[1;33m.\u001b[0m\u001b[0miinfo\u001b[0m\u001b[1;33m(\u001b[0m\u001b[0mGT\u001b[0m\u001b[1;33m.\u001b[0m\u001b[0mdtype\u001b[0m\u001b[1;33m)\u001b[0m\u001b[1;33m.\u001b[0m\u001b[0mmax\u001b[0m\u001b[1;33m\u001b[0m\u001b[1;33m\u001b[0m\u001b[0m\n\u001b[0m\u001b[0;32m    292\u001b[0m \u001b[1;33m\u001b[0m\u001b[0m\n\u001b[0;32m    293\u001b[0m         \u001b[0mGT\u001b[0m\u001b[1;33m,\u001b[0m\u001b[0mP\u001b[0m \u001b[1;33m=\u001b[0m \u001b[0m_initial_check\u001b[0m\u001b[1;33m(\u001b[0m\u001b[0mGT\u001b[0m\u001b[1;33m,\u001b[0m\u001b[0mP\u001b[0m\u001b[1;33m)\u001b[0m\u001b[1;33m\u001b[0m\u001b[1;33m\u001b[0m\u001b[0m\n",
      "\u001b[1;31mAttributeError\u001b[0m: 'str' object has no attribute 'dtype'"
     ]
    }
   ],
   "source": [
    "msssim(r'C:\\Users\\chuzh\\Study\\CIS565\\Project4-CUDA-Denoiser\\img\\scene.png',r'C:\\Users\\chuzh\\Study\\CIS565\\Project4-CUDA-Denoiser\\data\\0.png')"
   ]
  },
  {
   "cell_type": "code",
   "execution_count": 12,
   "id": "ec7d75a3-d4d9-4c2a-8333-1ed04a00c1b5",
   "metadata": {},
   "outputs": [],
   "source": [
    "image = Image.open(r'C:\\Users\\chuzh\\Study\\CIS565\\Project4-CUDA-Denoiser\\img\\scene.png')"
   ]
  },
  {
   "cell_type": "code",
   "execution_count": 49,
   "id": "6db2f38f-d558-4331-86eb-f887b7db8d51",
   "metadata": {},
   "outputs": [
    {
     "data": {
      "text/plain": [
       "(0.9703717774329762, 0.9719030877572862)"
      ]
     },
     "execution_count": 49,
     "metadata": {},
     "output_type": "execute_result"
    }
   ],
   "source": [
    "ssim(np.array(Image.open(r'C:\\Users\\chuzh\\Study\\CIS565\\Project4-CUDA-Denoiser\\img\\scene.png')),np.array(Image.open(r'C:\\Users\\chuzh\\Study\\CIS565\\Project4-CUDA-Denoiser\\img\\denoise.png')))"
   ]
  },
  {
   "cell_type": "code",
   "execution_count": 52,
   "id": "442b67b3-78c7-438e-a4ef-14d89c263f2f",
   "metadata": {},
   "outputs": [
    {
     "data": {
      "text/plain": [
       "(0.9704269793875967, 0.9723324665068347)"
      ]
     },
     "execution_count": 52,
     "metadata": {},
     "output_type": "execute_result"
    }
   ],
   "source": [
    "ssim(np.array(Image.open(r'C:\\Users\\chuzh\\Study\\CIS565\\Project4-CUDA-Denoiser\\img\\scene.png')),np.array(Image.open(r'C:\\Users\\chuzh\\Study\\CIS565\\Project4-CUDA-Denoiser\\img\\10it.png')))"
   ]
  },
  {
   "cell_type": "code",
   "execution_count": 55,
   "id": "a6239584-a631-4faf-a261-87170341e550",
   "metadata": {},
   "outputs": [],
   "source": [
    "score = [ssim(np.array(Image.open(r'C:\\Users\\chuzh\\Study\\CIS565\\Project4-CUDA-Denoiser\\img\\scene.png')),np.array(Image.open(r'C:\\Users\\chuzh\\Study\\CIS565\\Project4-CUDA-Denoiser\\data\\cornell.2022-10-21_10-32-13z.'+str(i+1)+'samp.png'))) for i in range(100)]"
   ]
  },
  {
   "cell_type": "code",
   "execution_count": 60,
   "id": "e0a97102-881a-4916-ac38-494ddd47f2a1",
   "metadata": {},
   "outputs": [
    {
     "data": {
      "image/png": "[encoded data removed]",
      "text/plain": [
       "<Figure size 432x288 with 1 Axes>"
      ]
     },
     "metadata": {
      "needs_background": "light"
     },
     "output_type": "display_data"
    }
   ],
   "source": [
    "plt.plot(list(range(1,101)),[s[0] for s in score])\n",
    "plt.xlabel('# of iterations')\n",
    "plt.ylabel('SSIM')\n",
    "plt.savefig('plot1.png',dpi=1200)"
   ]
  },
  {
   "cell_type": "code",
   "execution_count": 73,
   "id": "15ea6a23-2636-4c86-945d-153414a6876b",
   "metadata": {},
   "outputs": [
    {
     "data": {
      "text/plain": [
       "(0.9704269793875967, 0.9723324665068347)"
      ]
     },
     "execution_count": 73,
     "metadata": {},
     "output_type": "execute_result"
    }
   ],
   "source": [
    "ssim(np.array(Image.open(r'C:\\Users\\chuzh\\Study\\CIS565\\Project4-CUDA-Denoiser\\img\\scene.png')),np.array(Image.open(r'C:\\Users\\chuzh\\Study\\CIS565\\Project4-CUDA-Denoiser\\data\\5.png')))"
   ]
  },
  {
   "cell_type": "code",
   "execution_count": null,
   "id": "1f57e48d-422c-4a04-8f3b-b93f72758baa",
   "metadata": {},
   "outputs": [],
   "source": [
    "[26.24,53.57,161.03,608.30,2391]\n",
    "[8.387,18.63,59.94,219.98,889.5]"
   ]
  },
  {
   "cell_type": "code",
   "execution_count": null,
   "id": "2f04c5c1-b8c7-45ed-a5f1-47fa3a1923d1",
   "metadata": {},
   "outputs": [],
   "source": [
    "plt.loglog([100**2,200**2,400**2,800**2,1600**2],[26.24,53.57,161.03,608.30,2391],c='r',label='pathtrace')\n",
    "plt.loglog([100**2,200**2,400**2,800**2,1600**2],[8.387,18.63,59.94,219.98,889.5],c='b',label='denoise')\n",
    "plt.xlabel('pixelcount')\n",
    "plt.ylabel('time elapsed(ms)')\n",
    "plt.legend()\n",
    "plt.savefig('plot2.png',dpi=1200)"
   ]
  },
  {
   "cell_type": "code",
   "execution_count": 82,
   "id": "077538fb-43c3-449d-a5c2-adf45366cab8",
   "metadata": {},
   "outputs": [
    {
     "data": {
      "image/png": "[encoded data removed]",
      "text/plain": [
       "<Figure size 432x288 with 1 Axes>"
      ]
     },
     "metadata": {
      "needs_background": "light"
     },
     "output_type": "display_data"
    },
    {
     "data": {
      "text/plain": [
       "<Figure size 432x288 with 0 Axes>"
      ]
     },
     "metadata": {},
     "output_type": "display_data"
    }
   ],
   "source": [
    "plt.plot([1.00,36.5,74.9,111,148,186],c='b')\n",
    "plt.xlabel('# of A-Trous Iterations')\n",
    "plt.ylabel('time elapsed(ms)')\n",
    "plt.show()\n",
    "plt.savefig('plot3.png',dpi=1200)"
   ]
  },
  {
   "cell_type": "code",
   "execution_count": null,
   "id": "11deab71-105c-4225-9d56-d97931308aed",
   "metadata": {},
   "outputs": [],
   "source": []
  }
 ],
 "metadata": {
  "kernelspec": {
   "display_name": "Python 3 (ipykernel)",
   "language": "python",
   "name": "python3"
  },
  "language_info": {
   "codemirror_mode": {
    "name": "ipython",
    "version": 3
   },
   "file_extension": ".py",
   "mimetype": "text/x-python",
   "name": "python",
   "nbconvert_exporter": "python",
   "pygments_lexer": "ipython3",
   "version": "3.9.7"
  }
 },
 "nbformat": 4,
 "nbformat_minor": 5
}
